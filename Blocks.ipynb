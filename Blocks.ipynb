{
 "cells": [
  {
   "cell_type": "markdown",
   "metadata": {},
   "source": [
    "# TODO"
   ]
  },
  {
   "cell_type": "markdown",
   "metadata": {},
   "source": [
    "### -MAKE FILE CALLED PROCESS.PY. CONTAINS ANYTHING RELATED TO DATA PROCESSING\n",
    "### -MAKE FILE CALLED OPTIMIZER.PY FOR ANUTHING RELATED TO OPTIMIZATION\n",
    "### -TRANSLATE HARDEEPS BERT MODEL TO .PY\n",
    "### -MAKE BUILDING_BLOCKS.PY "
   ]
  },
  {
   "cell_type": "code",
   "execution_count": null,
   "metadata": {
    "collapsed": true
   },
   "outputs": [],
   "source": []
  }
 ],
 "metadata": {
  "kernelspec": {
   "display_name": "Python 3",
   "language": "python",
   "name": "python3"
  },
  "language_info": {
   "codemirror_mode": {
    "name": "ipython",
    "version": 3
   },
   "file_extension": ".py",
   "mimetype": "text/x-python",
   "name": "python",
   "nbconvert_exporter": "python",
   "pygments_lexer": "ipython3",
   "version": "3.7.3"
  }
 },
 "nbformat": 4,
 "nbformat_minor": 0
}
