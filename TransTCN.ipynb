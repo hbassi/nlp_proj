{
 "cells": [
  {
   "cell_type": "code",
   "execution_count": 1,
   "metadata": {},
   "outputs": [
    {
     "name": "stdout",
     "output_type": "stream",
     "text": [
      "cpu\n"
     ]
    }
   ],
   "source": [
    "import pandas as pd\n",
    "import matplotlib.pyplot as plt\n",
    "import numpy as np\n",
    "import seaborn as sns\n",
    "import string\n",
    "import re\n",
    "from sklearn.model_selection import train_test_split\n",
    "from sklearn.linear_model import LogisticRegression\n",
    "from sklearn.feature_extraction.text import CountVectorizer,TfidfVectorizer\n",
    "from sklearn.metrics import accuracy_score, precision_score, recall_score\n",
    "import transformers\n",
    "import torch\n",
    "#device = 'cpu' if torch.cuda.is_available() else 'cpu'\n",
    "device = 'cpu'\n",
    "print(device)\n",
    "#print(device)\n",
    "from torch import nn\n",
    "import torch.nn.functional as F\n",
    "#from tqdm import trange\n",
    "from tqdm.notebook import tqdm, trange\n",
    "import os\n",
    "#from torch.optim import AdamW\n",
    "from transformers import AdamW, get_linear_schedule_with_warmup\n",
    "from model import TransTCN"
   ]
  },
  {
   "cell_type": "code",
   "execution_count": 2,
   "metadata": {},
   "outputs": [],
   "source": [
    "rev = pd.read_json('yelp_review_training_dataset.jsonl',lines=True)"
   ]
  },
  {
   "cell_type": "code",
   "execution_count": 3,
   "metadata": {},
   "outputs": [],
   "source": [
    "def clean_text(text_data):\n",
    "    text_data = text_data.lower()\n",
    "    #text_data = re.sub('\\w*\\d\\w*', \"\", text_data)\n",
    "    return text_data  "
   ]
  },
  {
   "cell_type": "code",
   "execution_count": 4,
   "metadata": {},
   "outputs": [],
   "source": [
    "rev['clean_text'] = rev.text.apply(lambda x: clean_text(x))"
   ]
  },
  {
   "cell_type": "code",
   "execution_count": 5,
   "metadata": {},
   "outputs": [],
   "source": [
    "X = rev['clean_text']\n",
    "y = rev['stars']\n",
    "X_train, X_test, y_train, y_test = train_test_split(X,y, test_size = 0.1, random_state=123)\n",
    "X_val, X_test, y_val, y_test = train_test_split(X_test, y_test, test_size = 0.4, random_state=123)"
   ]
  },
  {
   "cell_type": "code",
   "execution_count": 6,
   "metadata": {},
   "outputs": [],
   "source": [
    "tokenizer = transformers.BertTokenizer.from_pretrained('bert-base-uncased')"
   ]
  },
  {
   "cell_type": "code",
   "execution_count": 7,
   "metadata": {},
   "outputs": [],
   "source": [
    "class ProcessData(torch.utils.data.Dataset):\n",
    "    def __init__(self, data, tokenizer, max_len, labels):\n",
    "        self.data = data\n",
    "        self.tokenizer = tokenizer\n",
    "        self.max_len = max_len\n",
    "        self.labels = labels\n",
    "    \n",
    "    def __getitem__(self, index):\n",
    "        review = self.data[index]\n",
    "        label = self.labels[index]\n",
    "        return self.tokenizer.encode_plus(review, max_length=self.max_len, padding='max_length', return_attention_mask=True, return_tensors='pt', truncation=True), review, torch.tensor([label-1]).to(torch.long)\n",
    "    \n",
    "    def __len__(self):\n",
    "        review_length = len(self.data)\n",
    "        return review_length"
   ]
  },
  {
   "cell_type": "code",
   "execution_count": 8,
   "metadata": {},
   "outputs": [],
   "source": [
    "tokenized_training_data = ProcessData(X_train[:100].to_numpy().tolist(), tokenizer, 150, y_train[:100].to_numpy())\n",
    "tokenized_validation_data = ProcessData(X_val[:100].to_numpy().tolist(), tokenizer, 150, y_val[:100].to_numpy())\n",
    "tokenized_test_data = ProcessData(X_test[:100].to_numpy().tolist(), tokenizer, 150, y_test[:100].to_numpy())"
   ]
  },
  {
   "cell_type": "code",
   "execution_count": 9,
   "metadata": {},
   "outputs": [],
   "source": [
    "#Create dataloader\n",
    "params = {'batch_size': 32,\n",
    "          'num_workers': 0}\n",
    "loader_tokenized_training_data = torch.utils.data.DataLoader(tokenized_training_data, **params)\n",
    "loader_tokenized_validation_data = torch.utils.data.DataLoader(tokenized_validation_data, **params)\n",
    "loader_tokenized_test_data = torch.utils.data.DataLoader(tokenized_test_data, **params)"
   ]
  },
  {
   "cell_type": "code",
   "execution_count": 10,
   "metadata": {},
   "outputs": [],
   "source": [
    "#classes, input_size, num_channels, kernel_size\n",
    "model = TransTCN(5, 1, [1,1], kernel_size=2)\n",
    "#model.to(device)"
   ]
  },
  {
   "cell_type": "code",
   "execution_count": 11,
   "metadata": {},
   "outputs": [],
   "source": [
    "from torch.optim import Adam\n",
    "criterion = nn.CrossEntropyLoss().to(device)\n",
    "optimizer = AdamW(model.parameters(), lr=5e-5, correct_bias=False)\n",
    "scheduler = get_linear_schedule_with_warmup(optimizer, num_warmup_steps=0,num_training_steps=len(loader_tokenized_training_data) * 5)"
   ]
  },
  {
   "cell_type": "code",
   "execution_count": 12,
   "metadata": {},
   "outputs": [],
   "source": [
    "def training(model, data_loader, size):\n",
    "    model = model.train()\n",
    "    losses = []\n",
    "    training_acc = 0\n",
    "    for data in tqdm(data_loader):\n",
    "        batch_ids = data[0]['input_ids']\n",
    "        batch_ids = batch_ids.flatten().reshape((batch_ids.shape[0], batch_ids.shape[2]))\n",
    "        batch_masks = data[0]['attention_mask']\n",
    "        batch_masks = batch_masks.flatten().reshape((batch_masks.shape[0], batch_masks.shape[2]))\n",
    "        data[2] = data[2].to(device)\n",
    "       \n",
    "       \n",
    "        output = model(batch_ids.to(device), batch_masks.to(device))\n",
    "        #print(output)\n",
    "     \n",
    "        prediction = torch.max(output, 1)[1]\n",
    " \n",
    "        training_loss = criterion(output, torch.flatten(data[2]))\n",
    "        training_acc += torch.sum(prediction == torch.flatten(data[2]))\n",
    "   \n",
    "        losses.append(training_loss.item())\n",
    "        training_loss.backward()\n",
    "        #nn.utils.clip_grad_norm_(model.parameters(), max_norm=1.0)\n",
    "        \n",
    "        optimizer.step()\n",
    "        scheduler.step()\n",
    "        optimizer.zero_grad()\n",
    "        \n",
    "    return training_acc / size, np.mean(losses)"
   ]
  },
  {
   "cell_type": "code",
   "execution_count": 13,
   "metadata": {},
   "outputs": [],
   "source": [
    "def evaluate(model, data_loader, size):\n",
    "    model = model.eval()\n",
    "    losses = []\n",
    "    validation_acc = 0\n",
    "    with torch.no_grad():\n",
    "        for vdata in tqdm(data_loader):\n",
    "            vbatch_ids = vdata[0]['input_ids']\n",
    "            vbatch_ids = vbatch_ids.flatten().reshape((vbatch_ids.shape[0], vbatch_ids.shape[2]))\n",
    "            vbatch_masks = vdata[0]['attention_mask']\n",
    "            vbatch_masks = vbatch_masks.flatten().reshape((vbatch_masks.shape[0], vbatch_masks.shape[2]))\n",
    "            vdata[2] = vdata[2].to(device)\n",
    "           \n",
    "\n",
    "            voutput = model(vbatch_ids.to(device), vbatch_masks.to(device))\n",
    "            vprediction = torch.max(voutput, 1)[1]\n",
    "            \n",
    "            vloss = criterion(voutput, torch.flatten(vdata[2]))\n",
    "            validation_acc += torch.sum(vprediction == torch.flatten(vdata[2]))\n",
    "            losses.append(vloss.item())\n",
    "    return validation_acc / size, np.mean(losses)"
   ]
  },
  {
   "cell_type": "code",
   "execution_count": null,
   "metadata": {},
   "outputs": [
    {
     "data": {
      "application/vnd.jupyter.widget-view+json": {
       "model_id": "796a9ca11cda4484852da6d6c390ad39",
       "version_major": 2,
       "version_minor": 0
      },
      "text/plain": [
       "HBox(children=(HTML(value=''), FloatProgress(value=0.0, max=1.0), HTML(value='')))"
      ]
     },
     "metadata": {},
     "output_type": "display_data"
    },
    {
     "name": "stdout",
     "output_type": "stream",
     "text": [
      "Epoch:  0\n",
      "==================================\n"
     ]
    },
    {
     "data": {
      "application/vnd.jupyter.widget-view+json": {
       "model_id": "5e02f3f8da9b46369216948ea8e2a507",
       "version_major": 2,
       "version_minor": 0
      },
      "text/plain": [
       "HBox(children=(HTML(value=''), FloatProgress(value=0.0, max=4.0), HTML(value='')))"
      ]
     },
     "metadata": {},
     "output_type": "display_data"
    },
    {
     "name": "stdout",
     "output_type": "stream",
     "text": [
      "0\n"
     ]
    }
   ],
   "source": [
    "highest_acc = 0\n",
    "for epoch in trange(1):\n",
    "    print('Epoch: ' , str(epoch))\n",
    "    print('==================================')\n",
    "    training_accuracy, training_loss = training(model,loader_tokenized_training_data,len(X_train[:100]) )\n",
    "    validation_accuracy, validation_loss = evaluate(model, loader_tokenized_validation_data, len(X_val[:100]))\n",
    "    \n",
    "    print('Training accuracy: ', training_accuracy )\n",
    "    print('Training loss: ', training_loss)\n",
    "    print('Validation accuracy: ', validation_accuracy)\n",
    "    print('Validation loss: ', validation_loss)"
   ]
  },
  {
   "cell_type": "code",
   "execution_count": null,
   "metadata": {},
   "outputs": [],
   "source": []
  },
  {
   "cell_type": "code",
   "execution_count": null,
   "metadata": {},
   "outputs": [],
   "source": []
  },
  {
   "cell_type": "code",
   "execution_count": null,
   "metadata": {},
   "outputs": [],
   "source": []
  }
 ],
 "metadata": {
  "kernelspec": {
   "display_name": "Python 3",
   "language": "python",
   "name": "python3"
  },
  "language_info": {
   "codemirror_mode": {
    "name": "ipython",
    "version": 3
   },
   "file_extension": ".py",
   "mimetype": "text/x-python",
   "name": "python",
   "nbconvert_exporter": "python",
   "pygments_lexer": "ipython3",
   "version": "3.8.5"
  }
 },
 "nbformat": 4,
 "nbformat_minor": 5
}
