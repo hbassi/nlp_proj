{
 "cells": [
  {
   "cell_type": "code",
   "execution_count": 1,
   "metadata": {
    "colab": {
     "base_uri": "https://localhost:8080/"
    },
    "id": "pfWdwxn9N9cs",
    "outputId": "adc2df3f-f849-4f35-e708-451361b21eb7"
   },
   "outputs": [
    {
     "name": "stdout",
     "output_type": "stream",
     "text": [
      "cuda\n"
     ]
    }
   ],
   "source": [
    "# !pip install transformers\n",
    "# !pip install nlpaug\n",
    "# from google.colab import drive\n",
    "# from google.colab import files\n",
    "# drive.mount('/content/gdrive')\n",
    "import pandas as pd\n",
    "import matplotlib.pyplot as plt\n",
    "import numpy as np\n",
    "import seaborn as sns\n",
    "import string\n",
    "import re\n",
    "from sklearn.model_selection import train_test_split\n",
    "from sklearn.linear_model import LogisticRegression\n",
    "from sklearn.feature_extraction.text import CountVectorizer,TfidfVectorizer\n",
    "from sklearn.metrics import accuracy_score, precision_score, recall_score\n",
    "import transformers\n",
    "import torch\n",
    "device = 'cuda' if torch.cuda.is_available() else 'cpu'\n",
    "print(device)\n",
    "from torch import nn\n",
    "import torch.nn.functional as F\n",
    "#from tqdm import trange\n",
    "from tqdm.notebook import tqdm, trange\n",
    "import os\n",
    "from transformers import AdamW, get_linear_schedule_with_warmup\n",
    "import nlpaug\n",
    "from tcn import TemporalConvNet\n"
   ]
  },
  {
   "cell_type": "code",
   "execution_count": 2,
   "metadata": {
    "colab": {
     "base_uri": "https://localhost:8080/"
    },
    "id": "zfgsNwAvN9cx",
    "outputId": "ed7a378b-aa92-4462-cd96-a7fb312f6f2a"
   },
   "outputs": [
    {
     "name": "stdout",
     "output_type": "stream",
     "text": [
      "C:/Users/Hardeep/Desktop/nlp_proj/\n"
     ]
    },
    {
     "name": "stderr",
     "output_type": "stream",
     "text": [
      "C:\\Users\\Hardeep\\anaconda3\\lib\\site-packages\\IPython\\core\\interactiveshell.py:3146: DtypeWarning: Columns (1) have mixed types.Specify dtype option on import or set low_memory=False.\n",
      "  has_raised = await self.run_ast_nodes(code_ast.body, cell_name,\n"
     ]
    }
   ],
   "source": [
    "PATH = 'C:/Users/Hardeep/Desktop/nlp_proj/'\n",
    "set_user = 0\n",
    "import sys\n",
    "import os\n",
    "print(PATH)\n",
    "sys.path.append(os.path.abspath(PATH))\n",
    "rev = pd.read_json(PATH + 'yelp_review_training_dataset.jsonl', lines=True)\n",
    "\n",
    "delete_aug_data = pd.read_csv(PATH + 'augmentations/delete_aug.csv', header=None)\n",
    "swap_aug_data = pd.read_csv(PATH + 'augmentations/swap_aug.csv', header=None)\n",
    "typo_aug_data = pd.read_csv(PATH + 'augmentations/typo_aug.csv', header=None)\n",
    "synoynm_aug_data = pd.read_csv(PATH + 'augmentations/synonym_aug.csv', header=None)\n",
    "\n",
    "delete_aug_data.columns = delete_aug_data.iloc[0]\n",
    "delete_aug_data = delete_aug_data[1:]\n",
    "delete_aug_data['stars'] = delete_aug_data['stars'].astype('int64')\n",
    "\n",
    "swap_aug_data.columns = swap_aug_data.iloc[0]\n",
    "swap_aug_data = swap_aug_data[1:]\n",
    "swap_aug_data['stars'] = swap_aug_data['stars'].astype('int64')\n",
    "\n",
    "typo_aug_data.columns = typo_aug_data.iloc[0]\n",
    "typo_aug_data = typo_aug_data[1:]\n",
    "typo_aug_data['stars'] = typo_aug_data['stars'].astype('int64')\n",
    "\n",
    "synoynm_aug_data.columns = synoynm_aug_data.iloc[0]\n",
    "synoynm_aug_data = synoynm_aug_data[1:]\n",
    "synoynm_aug_data['stars'] = synoynm_aug_data['stars'].astype('int64')"
   ]
  },
  {
   "cell_type": "code",
   "execution_count": 3,
   "metadata": {
    "id": "r6LI8vWON9cx"
   },
   "outputs": [],
   "source": [
    "del1 = delete_aug_data[delete_aug_data['stars'] == 1]\n",
    "swap1 = swap_aug_data[swap_aug_data['stars'] == 1]\n",
    "typo1 = typo_aug_data[typo_aug_data['stars'] == 1]\n",
    "syn1 = synoynm_aug_data[synoynm_aug_data['stars'] == 1]\n",
    "\n",
    "del2 = delete_aug_data[delete_aug_data['stars'] == 2]\n",
    "swap2 = swap_aug_data[swap_aug_data['stars'] == 2]\n",
    "typo2 = typo_aug_data[typo_aug_data['stars'] == 2]\n",
    "syn2 = synoynm_aug_data[synoynm_aug_data['stars'] == 2]\n",
    "\n",
    "del3 = delete_aug_data[delete_aug_data['stars'] == 3]\n",
    "swap3 = swap_aug_data[swap_aug_data['stars'] == 3]\n",
    "typo3 = typo_aug_data[typo_aug_data['stars'] == 3]\n",
    "syn3 = synoynm_aug_data[synoynm_aug_data['stars'] == 3]\n",
    "\n",
    "del4 = delete_aug_data[delete_aug_data['stars'] == 4]\n",
    "swap4 = swap_aug_data[swap_aug_data['stars'] == 4]\n",
    "typo4 = typo_aug_data[typo_aug_data['stars'] == 4]\n",
    "syn4 = synoynm_aug_data[synoynm_aug_data['stars'] == 4]\n",
    "\n",
    "del5 = delete_aug_data[delete_aug_data['stars'] == 5]\n",
    "swap5 = swap_aug_data[swap_aug_data['stars'] == 5]\n",
    "typo5 = typo_aug_data[typo_aug_data['stars'] == 5]\n",
    "syn5 = synoynm_aug_data[synoynm_aug_data['stars'] == 5]"
   ]
  },
  {
   "cell_type": "code",
   "execution_count": 4,
   "metadata": {
    "colab": {
     "base_uri": "https://localhost:8080/"
    },
    "id": "A_FB7PbIN9cy",
    "outputId": "47bf63f1-6d99-43f3-b72e-36c4f57d5242"
   },
   "outputs": [
    {
     "data": {
      "text/plain": [
       "((533581, 2), (533581, 2), (533581, 2), (533581, 2), (533581, 3))"
      ]
     },
     "execution_count": 4,
     "metadata": {},
     "output_type": "execute_result"
    }
   ],
   "source": [
    "delete_aug_data.shape, swap_aug_data.shape, typo_aug_data.shape, synoynm_aug_data.shape, rev.shape"
   ]
  },
  {
   "cell_type": "code",
   "execution_count": 5,
   "metadata": {
    "id": "waiSt5lDN9cy"
   },
   "outputs": [],
   "source": [
    "rev = rev.drop(columns={'review_id'})"
   ]
  },
  {
   "cell_type": "code",
   "execution_count": 6,
   "metadata": {
    "colab": {
     "base_uri": "https://localhost:8080/"
    },
    "id": "hjSqUSwKN9cy",
    "outputId": "94b5db13-76f6-4c58-c29f-d17aa3da119d"
   },
   "outputs": [
    {
     "data": {
      "text/plain": [
       "((129878, 2), (261160, 2), (261160, 2), (261160, 2))"
      ]
     },
     "execution_count": 6,
     "metadata": {},
     "output_type": "execute_result"
    }
   ],
   "source": [
    "del1.shape, swap5.shape, typo5.shape, syn5.shape"
   ]
  },
  {
   "cell_type": "code",
   "execution_count": 7,
   "metadata": {
    "id": "wpV4KTpLN9cy"
   },
   "outputs": [],
   "source": [
    "random_25k_4 = np.random.randint(0,del4.shape[0], size=25000)\n",
    "random_10k_5 = np.random.randint(0, del5.shape[0], size=10000)\n",
    "random_10k_1 =  np.random.randint(0, del1.shape[0], size=20000)"
   ]
  },
  {
   "cell_type": "code",
   "execution_count": 8,
   "metadata": {
    "id": "GlzbAjhIN9cz"
   },
   "outputs": [],
   "source": [
    "rev_aug = pd.concat([rev, del1.iloc[random_10k_1], swap1.iloc[random_10k_1], typo1.iloc[random_10k_1], syn1.iloc[random_10k_1], del2, swap2, typo2, syn2, del3,swap3,typo3,syn3,del4.iloc[random_25k_4],swap4.iloc[random_25k_4],typo4.iloc[random_25k_4],syn4.iloc[random_25k_4], del5.iloc[random_10k_5], swap5.iloc[random_10k_5],typo5.iloc[random_10k_5], syn5.iloc[random_10k_5]  ], ignore_index=True)"
   ]
  },
  {
   "cell_type": "code",
   "execution_count": 9,
   "metadata": {
    "colab": {
     "base_uri": "https://localhost:8080/",
     "height": 295
    },
    "id": "THm2i3X7N9cz",
    "outputId": "0c942879-6896-4a53-d1b7-85ebd3131183"
   },
   "outputs": [
    {
     "data": {
      "image/png": "[encoded data removed]",
      "text/plain": [
       "<Figure size 432x288 with 1 Axes>"
      ]
     },
     "metadata": {
      "needs_background": "light"
     },
     "output_type": "display_data"
    }
   ],
   "source": [
    "aug_ratings = rev_aug['stars']\n",
    "plt.title('Countplot of Ratings')\n",
    "sns.countplot(x=aug_ratings);"
   ]
  },
  {
   "cell_type": "code",
   "execution_count": 10,
   "metadata": {
    "colab": {
     "base_uri": "https://localhost:8080/",
     "height": 419
    },
    "id": "fs-PiXaaN9c0",
    "outputId": "bab2eca8-c033-402a-8112-29bb1cf358c3"
   },
   "outputs": [
    {
     "data": {
      "text/html": [
       "<div>\n",
       "<style scoped>\n",
       "    .dataframe tbody tr th:only-of-type {\n",
       "        vertical-align: middle;\n",
       "    }\n",
       "\n",
       "    .dataframe tbody tr th {\n",
       "        vertical-align: top;\n",
       "    }\n",
       "\n",
       "    .dataframe thead th {\n",
       "        text-align: right;\n",
       "    }\n",
       "</style>\n",
       "<table border=\"1\" class=\"dataframe\">\n",
       "  <thead>\n",
       "    <tr style=\"text-align: right;\">\n",
       "      <th></th>\n",
       "      <th>text</th>\n",
       "      <th>stars</th>\n",
       "    </tr>\n",
       "  </thead>\n",
       "  <tbody>\n",
       "    <tr>\n",
       "      <th>0</th>\n",
       "      <td>Total bill for this horrible service? Over $8G...</td>\n",
       "      <td>1</td>\n",
       "    </tr>\n",
       "    <tr>\n",
       "      <th>1</th>\n",
       "      <td>I *adore* Travis at the Hard Rock's new Kelly ...</td>\n",
       "      <td>5</td>\n",
       "    </tr>\n",
       "    <tr>\n",
       "      <th>2</th>\n",
       "      <td>I have to say that this office really has it t...</td>\n",
       "      <td>5</td>\n",
       "    </tr>\n",
       "    <tr>\n",
       "      <th>3</th>\n",
       "      <td>Went in for a lunch. Steak sandwich was delici...</td>\n",
       "      <td>5</td>\n",
       "    </tr>\n",
       "    <tr>\n",
       "      <th>4</th>\n",
       "      <td>Today was my second out of three sessions I ha...</td>\n",
       "      <td>1</td>\n",
       "    </tr>\n",
       "    <tr>\n",
       "      <th>...</th>\n",
       "      <td>...</td>\n",
       "      <td>...</td>\n",
       "    </tr>\n",
       "    <tr>\n",
       "      <th>1034060</th>\n",
       "      <td>Friendly, courteous and professional! They alw...</td>\n",
       "      <td>5</td>\n",
       "    </tr>\n",
       "    <tr>\n",
       "      <th>1034061</th>\n",
       "      <td>Three of my children have hang Kiddie Academy ...</td>\n",
       "      <td>5</td>\n",
       "    </tr>\n",
       "    <tr>\n",
       "      <th>1034062</th>\n",
       "      <td>Lived here for 6 months and just late discover...</td>\n",
       "      <td>5</td>\n",
       "    </tr>\n",
       "    <tr>\n",
       "      <th>1034063</th>\n",
       "      <td>I think they ' re so lovely, warm, and accommo...</td>\n",
       "      <td>5</td>\n",
       "    </tr>\n",
       "    <tr>\n",
       "      <th>1034064</th>\n",
       "      <td>Aurora collapse me a big haircut at a great te...</td>\n",
       "      <td>5</td>\n",
       "    </tr>\n",
       "  </tbody>\n",
       "</table>\n",
       "<p>1034065 rows × 2 columns</p>\n",
       "</div>"
      ],
      "text/plain": [
       "0                                                     text  stars\n",
       "0        Total bill for this horrible service? Over $8G...      1\n",
       "1        I *adore* Travis at the Hard Rock's new Kelly ...      5\n",
       "2        I have to say that this office really has it t...      5\n",
       "3        Went in for a lunch. Steak sandwich was delici...      5\n",
       "4        Today was my second out of three sessions I ha...      1\n",
       "...                                                    ...    ...\n",
       "1034060  Friendly, courteous and professional! They alw...      5\n",
       "1034061  Three of my children have hang Kiddie Academy ...      5\n",
       "1034062  Lived here for 6 months and just late discover...      5\n",
       "1034063  I think they ' re so lovely, warm, and accommo...      5\n",
       "1034064  Aurora collapse me a big haircut at a great te...      5\n",
       "\n",
       "[1034065 rows x 2 columns]"
      ]
     },
     "execution_count": 10,
     "metadata": {},
     "output_type": "execute_result"
    }
   ],
   "source": [
    "rev_aug"
   ]
  },
  {
   "cell_type": "code",
   "execution_count": 11,
   "metadata": {
    "colab": {
     "base_uri": "https://localhost:8080/",
     "height": 295
    },
    "id": "VObo9mmZN9c0",
    "outputId": "8c81f576-178b-42f1-a51b-edbaffc70e71"
   },
   "outputs": [
    {
     "data": {
      "image/png": "[encoded data removed]",
      "text/plain": [
       "<Figure size 432x288 with 1 Axes>"
      ]
     },
     "metadata": {
      "needs_background": "light"
     },
     "output_type": "display_data"
    }
   ],
   "source": [
    "all_ratings = rev['stars']\n",
    "plt.title('Countplot of Ratings')\n",
    "sns.countplot(x=all_ratings);"
   ]
  },
  {
   "cell_type": "code",
   "execution_count": 12,
   "metadata": {
    "id": "_Y-SRqwlRW7a"
   },
   "outputs": [],
   "source": [
    "def clean_text(text_data):\n",
    "    text_data = text_data.lower()\n",
    "    #text_data = re.sub('\\w*\\d\\w*', \"\", text_data)\n",
    "    return text_data   \n",
    "rev_aug['clean_text'] = rev_aug.text.apply(lambda x: clean_text(x))\n"
   ]
  },
  {
   "cell_type": "code",
   "execution_count": 13,
   "metadata": {
    "id": "cCLZY93EN9c0"
   },
   "outputs": [],
   "source": [
    "inds = np.random.randint(0, rev_aug.shape[0], size = 533581)\n",
    "X = rev_aug['clean_text'].iloc[inds]\n",
    "y = rev_aug['stars'].iloc[inds]"
   ]
  },
  {
   "cell_type": "code",
   "execution_count": 14,
   "metadata": {
    "id": "1Ov-2rXRN9c0"
   },
   "outputs": [],
   "source": [
    "X_train, X_test, y_train, y_test = train_test_split(X,y, test_size = 0.1, random_state=123)\n",
    "X_val, X_test, y_val, y_test = train_test_split(X_test, y_test, test_size = 0.4, random_state=123)"
   ]
  },
  {
   "cell_type": "code",
   "execution_count": 15,
   "metadata": {
    "colab": {
     "base_uri": "https://localhost:8080/"
    },
    "id": "9SrHY3qsN9c1",
    "outputId": "e5830622-2eaa-4277-ba25-4a93510b6650"
   },
   "outputs": [
    {
     "data": {
      "text/plain": [
       "1006143    i five bought nine west boots about six years ...\n",
       "473177     i come here whenever i'm visiting my in-laws. ...\n",
       "491246     this office is so nice and helpful! they are v...\n",
       "1011899    i would probably say that i ' ve been on a lif...\n",
       "358627     great personalized service and even had sample...\n",
       "                                 ...                        \n",
       "853677     this place was alright. very authentic mainlan...\n",
       "882038     i bought a gift certificate for aj ' s on rest...\n",
       "910773     just for ' tech. i brought konstantin 2014 yam...\n",
       "566505     helen both and stephanie dead are right. gave ...\n",
       "986426     i dropped in on a friday afternoon and it wasn...\n",
       "Name: clean_text, Length: 480222, dtype: object"
      ]
     },
     "execution_count": 15,
     "metadata": {},
     "output_type": "execute_result"
    }
   ],
   "source": [
    "X_train"
   ]
  },
  {
   "cell_type": "markdown",
   "metadata": {
    "id": "VrdQa2wUN9c1"
   },
   "source": [
    "### Our data is not evenly split, with more polarizing reviews being the most popular. Postively rated restaurants are rated the highest"
   ]
  },
  {
   "cell_type": "markdown",
   "metadata": {
    "id": "21RNGYDFN9c1"
   },
   "source": [
    "### Real BERT"
   ]
  },
  {
   "cell_type": "code",
   "execution_count": 16,
   "metadata": {
    "id": "JEgAHKMSN9c1"
   },
   "outputs": [],
   "source": [
    "tokenizer = transformers.BertTokenizer.from_pretrained('bert-base-uncased')"
   ]
  },
  {
   "cell_type": "code",
   "execution_count": 17,
   "metadata": {
    "id": "YJWP65MLN9c1"
   },
   "outputs": [],
   "source": [
    "class ProcessData(torch.utils.data.Dataset):\n",
    "    def __init__(self, data, tokenizer, max_len, labels):\n",
    "        self.data = data\n",
    "        self.tokenizer = tokenizer\n",
    "        self.max_len = max_len\n",
    "        self.labels = labels\n",
    "    \n",
    "    def __getitem__(self, index):\n",
    "        review = self.data[index]\n",
    "        label = self.labels[index]\n",
    "        return self.tokenizer.encode_plus(review, max_length=self.max_len, padding='max_length', return_attention_mask=True, return_tensors='pt', truncation=True), review, torch.tensor([label-1]).to(torch.long)\n",
    "    \n",
    "    def __len__(self):\n",
    "        review_length = len(self.data)\n",
    "        return review_length"
   ]
  },
  {
   "cell_type": "code",
   "execution_count": 18,
   "metadata": {
    "id": "Wv0XUawiN9c1"
   },
   "outputs": [],
   "source": [
    "tokenized_training_data = ProcessData(X_train.to_numpy().tolist(), tokenizer, 150, y_train.to_numpy())\n",
    "tokenized_validation_data = ProcessData(X_val.to_numpy().tolist(), tokenizer, 150, y_val.to_numpy())\n",
    "tokenized_test_data = ProcessData(X_test.to_numpy().tolist(), tokenizer, 150, y_test.to_numpy())"
   ]
  },
  {
   "cell_type": "code",
   "execution_count": 19,
   "metadata": {
    "colab": {
     "base_uri": "https://localhost:8080/"
    },
    "id": "INct1F_BN9c1",
    "outputId": "afe22c94-a61c-41c8-a49d-3d62cbba8b5c"
   },
   "outputs": [],
   "source": [
    "#tokenized_training_data[0][0], tokenized_training_data[0][1], tokenized_training_data[0][2]"
   ]
  },
  {
   "cell_type": "code",
   "execution_count": 20,
   "metadata": {
    "id": "-ZieK6XQN9c2"
   },
   "outputs": [],
   "source": [
    "#Create dataloader\n",
    "params = {'batch_size': 16,\n",
    "          'num_workers': 0}\n",
    "loader_tokenized_training_data = torch.utils.data.DataLoader(tokenized_training_data, **params)\n",
    "loader_tokenized_validation_data = torch.utils.data.DataLoader(tokenized_validation_data, **params)\n",
    "loader_tokenized_test_data = torch.utils.data.DataLoader(tokenized_test_data, **params)"
   ]
  },
  {
   "cell_type": "markdown",
   "metadata": {
    "id": "tgJiWeBvN9c2"
   },
   "source": [
    "### Training BERT model"
   ]
  },
  {
   "cell_type": "code",
   "execution_count": 21,
   "metadata": {
    "id": "-15mE73NN9c3"
   },
   "outputs": [],
   "source": [
    "class TransTCN2(nn.Module):\n",
    "    def __init__(self, classes, input_size, num_channels, kernel_size=2, dropout=0.3, n=3, hidden_state=768):\n",
    "        super(TransTCN2, self).__init__()\n",
    "        self.bert_model = transformers.BertModel.from_pretrained('bert-base-uncased')\n",
    "        self.tcn = TemporalConvNet(input_size, num_channels, kernel_size, dropout=dropout)\n",
    "        self.drop = nn.Dropout(p=dropout)\n",
    "        self.finalLinear = nn.Linear(hidden_state, classes)\n",
    "        self.linear = nn.Linear(hidden_state, 150)\n",
    "        self.sm = nn.Softmax(dim=1)\n",
    "        self.n=n\n",
    "        self.relu = nn.ReLU()\n",
    "\n",
    "    #(bert -> tcn) * n -> bert -> linear -> softmax\n",
    "    def forward(self, input_ids, attention_mask):\n",
    "        output = input_ids\n",
    "        for i in range(self.n):\n",
    "            output = self.bert_model(output, attention_mask)\n",
    "            output = output[1]\n",
    "            output = output.unsqueeze(dim=1)\n",
    "           \n",
    "            output = self.tcn(output).squeeze(dim=1)\n",
    "            \n",
    "            output = self.linear(output)\n",
    "            output = self.relu(output)\n",
    "            output = output.long()\n",
    "\n",
    "        output = self.bert_model(output, attention_mask)\n",
    "        output = output[1]\n",
    "        result = self.drop(output)\n",
    "        result = self.finalLinear(output)\n",
    "\n",
    "        return result\n"
   ]
  },
  {
   "cell_type": "code",
   "execution_count": 22,
   "metadata": {
    "id": "uK_Wbrt4N9c3"
   },
   "outputs": [],
   "source": [
    "model = TransTCN2(5, 1, [1,1,1], dropout=0.6).to(device)\n",
    "#model = model.to(device)\n",
    "#ex = ex.to(device)\n",
    "#ex['input_ids'] = ex['input_ids'].to(device)\n",
    "#ex['attention_mask'] = ex['attention_mask'].to(device)\n",
    "#ex['token_type_ids'] = ex['token_type_ids'].to(device)"
   ]
  },
  {
   "cell_type": "code",
   "execution_count": 23,
   "metadata": {
    "id": "3PwBz5UON9c3"
   },
   "outputs": [],
   "source": [
    "#model(ex['input_ids'], ex['attention_mask'])"
   ]
  },
  {
   "cell_type": "code",
   "execution_count": 24,
   "metadata": {
    "id": "d5aPPgIfN9c3"
   },
   "outputs": [],
   "source": [
    "#ex"
   ]
  },
  {
   "cell_type": "code",
   "execution_count": 25,
   "metadata": {
    "id": "hIy_1D87N9c3"
   },
   "outputs": [],
   "source": [
    "#F.softmax(model(ex['input_ids'], ex['attention_mask']), dim=1)"
   ]
  },
  {
   "cell_type": "code",
   "execution_count": 26,
   "metadata": {
    "id": "h4DQodzIN9c3"
   },
   "outputs": [],
   "source": [
    "from torch.optim import Adam\n",
    "criterion = nn.CrossEntropyLoss().to(device)\n",
    "optimizer = AdamW(model.parameters(), lr=5e-5, correct_bias=False)\n",
    "scheduler = get_linear_schedule_with_warmup(optimizer, num_warmup_steps=0,num_training_steps=len(loader_tokenized_training_data) * 5)"
   ]
  },
  {
   "cell_type": "code",
   "execution_count": 27,
   "metadata": {
    "id": "X9pHW01iN9c3"
   },
   "outputs": [],
   "source": [
    "def training(model, data_loader, size):\n",
    "    model = model.train()\n",
    "    losses = []\n",
    "    training_acc = 0\n",
    "    for data in tqdm(data_loader):\n",
    "        batch_ids = data[0]['input_ids']\n",
    "        batch_ids = batch_ids.flatten().reshape((batch_ids.shape[0], batch_ids.shape[2]))\n",
    "        batch_masks = data[0]['attention_mask']\n",
    "        batch_masks = batch_masks.flatten().reshape((batch_masks.shape[0], batch_masks.shape[2]))\n",
    "        data[2] = data[2].to(device)\n",
    "       \n",
    "       \n",
    "        output = model(batch_ids.to(device), batch_masks.to(device))\n",
    "        #print(output)\n",
    "     \n",
    "        prediction = torch.max(output, 1)[1]\n",
    " \n",
    "        training_loss = criterion(output, torch.flatten(data[2]))\n",
    "        training_acc += torch.sum(prediction == torch.flatten(data[2]))\n",
    "   \n",
    "        losses.append(training_loss.item())\n",
    "        training_loss.backward()\n",
    "        #nn.utils.clip_grad_norm_(model.parameters(), max_norm=1.0)\n",
    "        \n",
    "        optimizer.step()\n",
    "        scheduler.step()\n",
    "        optimizer.zero_grad()\n",
    "        \n",
    "    return training_acc / size, np.mean(losses)"
   ]
  },
  {
   "cell_type": "code",
   "execution_count": 28,
   "metadata": {
    "id": "WHGDTl37N9c3"
   },
   "outputs": [],
   "source": [
    "def evaluate(model, data_loader, size):\n",
    "    model = model.eval()\n",
    "    losses = []\n",
    "    validation_acc = 0\n",
    "    with torch.no_grad():\n",
    "        for vdata in tqdm(data_loader):\n",
    "            vbatch_ids = vdata[0]['input_ids']\n",
    "            vbatch_ids = vbatch_ids.flatten().reshape((vbatch_ids.shape[0], vbatch_ids.shape[2]))\n",
    "            vbatch_masks = vdata[0]['attention_mask']\n",
    "            vbatch_masks = vbatch_masks.flatten().reshape((vbatch_masks.shape[0], vbatch_masks.shape[2]))\n",
    "            vdata[2] = vdata[2].to(device)\n",
    "           \n",
    "\n",
    "            voutput = model(vbatch_ids.to(device), vbatch_masks.to(device))\n",
    "            vprediction = torch.max(voutput, 1)[1]\n",
    "            \n",
    "            vloss = criterion(voutput, torch.flatten(vdata[2]))\n",
    "            validation_acc += torch.sum(vprediction == torch.flatten(vdata[2]))\n",
    "            losses.append(vloss.item())\n",
    "    return validation_acc / size, np.mean(losses)"
   ]
  },
  {
   "cell_type": "code",
   "execution_count": 29,
   "metadata": {
    "id": "esDvH0BlN9c4"
   },
   "outputs": [],
   "source": [
    "#len(loader_tokenized_training_data)\n",
    "#a = next(iter(loader_tokenized_training_data))"
   ]
  },
  {
   "cell_type": "code",
   "execution_count": 30,
   "metadata": {
    "colab": {
     "base_uri": "https://localhost:8080/",
     "height": 115,
     "referenced_widgets": [
      "288067d1923e4d4982d548fc5a4cb0b3",
      "04e714e4de2644efb78f448d0032fc69",
      "b8dcbf75a9814e0ea39d80cb16163c3f",
      "e0827100e40f47dca7db1af367cd6b29",
      "4d22c543c3934e8e9d10d461013ba54a",
      "840723a473074f81807af5e18818a307",
      "1cfcb1698f6645b0a68cc3241df92241",
      "bd846a8053b349e8a202953b9e8151c8",
      "57ca68af46b9468685660899a2d0328f",
      "fa57fb34b3fa460db7931907ee7e7152",
      "5033590e49bd48a48669bc9f2edbd10a",
      "388d1aaa572f49528523ff2fe0354229",
      "6c3c9f9c61bb4bdc8e4e4603f5f2ecb9",
      "ffe5f9128a974f61a362cab7311b5dd9",
      "f39a60ad3cd44847bd0b7be29e596357",
      "03e9f50abbf149e29dadbc8028a98c56"
     ]
    },
    "id": "JH7DA7OqN9c4",
    "outputId": "99538dda-5316-48bd-f031-5cc4f8a0c8da"
   },
   "outputs": [
    {
     "data": {
      "application/vnd.jupyter.widget-view+json": {
       "model_id": "d1bf5a9a40b24da3a96889551b800fd7",
       "version_major": 2,
       "version_minor": 0
      },
      "text/plain": [
       "HBox(children=(HTML(value=''), FloatProgress(value=0.0, max=5.0), HTML(value='')))"
      ]
     },
     "metadata": {},
     "output_type": "display_data"
    },
    {
     "name": "stdout",
     "output_type": "stream",
     "text": [
      "Epoch:  0\n",
      "==================================\n"
     ]
    },
    {
     "data": {
      "application/vnd.jupyter.widget-view+json": {
       "model_id": "8994cabe34b14c9d8c9b31f4c3bd85e5",
       "version_major": 2,
       "version_minor": 0
      },
      "text/plain": [
       "HBox(children=(HTML(value=''), FloatProgress(value=0.0, max=30014.0), HTML(value='')))"
      ]
     },
     "metadata": {},
     "output_type": "display_data"
    },
    {
     "name": "stdout",
     "output_type": "stream",
     "text": [
      "\n"
     ]
    },
    {
     "data": {
      "application/vnd.jupyter.widget-view+json": {
       "model_id": "91d1df529aef4c39af47c349bd4772f0",
       "version_major": 2,
       "version_minor": 0
      },
      "text/plain": [
       "HBox(children=(HTML(value=''), FloatProgress(value=0.0, max=2001.0), HTML(value='')))"
      ]
     },
     "metadata": {},
     "output_type": "display_data"
    },
    {
     "name": "stdout",
     "output_type": "stream",
     "text": [
      "\n",
      "Training accuracy:  tensor(0.2903, device='cuda:0')\n",
      "Training loss:  1.5880433343876652\n",
      "Validation accuracy:  tensor(0.2946, device='cuda:0')\n",
      "Validation loss:  1.5845847192971125\n",
      "Epoch:  1\n",
      "==================================\n"
     ]
    },
    {
     "data": {
      "application/vnd.jupyter.widget-view+json": {
       "model_id": "6f7287e629a649d5891f8822572bfe43",
       "version_major": 2,
       "version_minor": 0
      },
      "text/plain": [
       "HBox(children=(HTML(value=''), FloatProgress(value=0.0, max=30014.0), HTML(value='')))"
      ]
     },
     "metadata": {},
     "output_type": "display_data"
    },
    {
     "name": "stdout",
     "output_type": "stream",
     "text": [
      "\n"
     ]
    },
    {
     "data": {
      "application/vnd.jupyter.widget-view+json": {
       "model_id": "fba72dc5b20f49c29d644bb843e1a5cd",
       "version_major": 2,
       "version_minor": 0
      },
      "text/plain": [
       "HBox(children=(HTML(value=''), FloatProgress(value=0.0, max=2001.0), HTML(value='')))"
      ]
     },
     "metadata": {},
     "output_type": "display_data"
    },
    {
     "name": "stdout",
     "output_type": "stream",
     "text": [
      "\n",
      "Training accuracy:  tensor(0.2908, device='cuda:0')\n",
      "Training loss:  1.5868231036117013\n",
      "Validation accuracy:  tensor(0.2946, device='cuda:0')\n",
      "Validation loss:  1.583960931936185\n",
      "Epoch:  2\n",
      "==================================\n"
     ]
    },
    {
     "data": {
      "application/vnd.jupyter.widget-view+json": {
       "model_id": "ab6ef0b52d4c42d7b3aa2f3821d8c07c",
       "version_major": 2,
       "version_minor": 0
      },
      "text/plain": [
       "HBox(children=(HTML(value=''), FloatProgress(value=0.0, max=30014.0), HTML(value='')))"
      ]
     },
     "metadata": {},
     "output_type": "display_data"
    },
    {
     "name": "stdout",
     "output_type": "stream",
     "text": [
      "\n"
     ]
    },
    {
     "data": {
      "application/vnd.jupyter.widget-view+json": {
       "model_id": "b5e2d9bf037d45ae8c0551d9daae06e6",
       "version_major": 2,
       "version_minor": 0
      },
      "text/plain": [
       "HBox(children=(HTML(value=''), FloatProgress(value=0.0, max=2001.0), HTML(value='')))"
      ]
     },
     "metadata": {},
     "output_type": "display_data"
    },
    {
     "name": "stdout",
     "output_type": "stream",
     "text": [
      "\n",
      "Training accuracy:  tensor(0.2909, device='cuda:0')\n",
      "Training loss:  1.5858842722260833\n",
      "Validation accuracy:  tensor(0.2946, device='cuda:0')\n",
      "Validation loss:  1.5829530897764847\n",
      "Epoch:  3\n",
      "==================================\n"
     ]
    },
    {
     "data": {
      "application/vnd.jupyter.widget-view+json": {
       "model_id": "80721c4b60674de487618496f53f7c88",
       "version_major": 2,
       "version_minor": 0
      },
      "text/plain": [
       "HBox(children=(HTML(value=''), FloatProgress(value=0.0, max=30014.0), HTML(value='')))"
      ]
     },
     "metadata": {},
     "output_type": "display_data"
    },
    {
     "name": "stdout",
     "output_type": "stream",
     "text": [
      "\n"
     ]
    },
    {
     "data": {
      "application/vnd.jupyter.widget-view+json": {
       "model_id": "81314834ef024035a3054ca9621b39ff",
       "version_major": 2,
       "version_minor": 0
      },
      "text/plain": [
       "HBox(children=(HTML(value=''), FloatProgress(value=0.0, max=2001.0), HTML(value='')))"
      ]
     },
     "metadata": {},
     "output_type": "display_data"
    },
    {
     "name": "stdout",
     "output_type": "stream",
     "text": [
      "\n",
      "Training accuracy:  tensor(0.2909, device='cuda:0')\n",
      "Training loss:  1.5849393595025185\n",
      "Validation accuracy:  tensor(0.2946, device='cuda:0')\n",
      "Validation loss:  1.582234710648559\n",
      "Epoch:  4\n",
      "==================================\n"
     ]
    },
    {
     "data": {
      "application/vnd.jupyter.widget-view+json": {
       "model_id": "bdfb8321973e4bd3aa103bc3808f17ab",
       "version_major": 2,
       "version_minor": 0
      },
      "text/plain": [
       "HBox(children=(HTML(value=''), FloatProgress(value=0.0, max=30014.0), HTML(value='')))"
      ]
     },
     "metadata": {},
     "output_type": "display_data"
    },
    {
     "name": "stdout",
     "output_type": "stream",
     "text": [
      "\n"
     ]
    },
    {
     "data": {
      "application/vnd.jupyter.widget-view+json": {
       "model_id": "b2f88b7fad914a19bece7a4d40ed42f0",
       "version_major": 2,
       "version_minor": 0
      },
      "text/plain": [
       "HBox(children=(HTML(value=''), FloatProgress(value=0.0, max=2001.0), HTML(value='')))"
      ]
     },
     "metadata": {},
     "output_type": "display_data"
    },
    {
     "name": "stdout",
     "output_type": "stream",
     "text": [
      "\n",
      "Training accuracy:  tensor(0.2909, device='cuda:0')\n",
      "Training loss:  1.5839803414094724\n",
      "Validation accuracy:  tensor(0.2946, device='cuda:0')\n",
      "Validation loss:  1.5814751167406982\n",
      "\n"
     ]
    }
   ],
   "source": [
    "PATH = 'C:/Users/Hardeep/Desktop/nlp_proj'\n",
    "\n",
    "highest_acc = 0\n",
    "for epoch in trange(5):\n",
    "    print('Epoch: ' , str(epoch))\n",
    "    print('==================================')\n",
    "    training_accuracy, training_loss = training(model,loader_tokenized_training_data,len(X_train) )\n",
    "    validation_accuracy, validation_loss = evaluate(model, loader_tokenized_validation_data, len(X_val))\n",
    "    \n",
    "    print('Training accuracy: ', training_accuracy )\n",
    "    print('Training loss: ', training_loss)\n",
    "    print('Validation accuracy: ', validation_accuracy)\n",
    "    print('Validation loss: ', validation_loss)\n",
    "    \n",
    "    torch.save(model.state_dict(), os.path.join(PATH,'epoch'+str(epoch)+'failure_tcn.pth'))\n",
    "    #torch.save(model.state_dict(),‘mode.pth’, 'C:/Users/Hardeep/Desktop/nlp_proj')\n",
    "    \n",
    "    \n",
    "    \n",
    "            \n",
    "        \n",
    "        \n",
    "        "
   ]
  },
  {
   "cell_type": "code",
   "execution_count": null,
   "metadata": {
    "id": "fA7lpOndN9c4"
   },
   "outputs": [],
   "source": []
  },
  {
   "cell_type": "code",
   "execution_count": 31,
   "metadata": {
    "id": "ggMTT_mqN9c4"
   },
   "outputs": [
    {
     "data": {
      "application/vnd.jupyter.widget-view+json": {
       "model_id": "3cd47e585fcb43e394d465f0222d38a0",
       "version_major": 2,
       "version_minor": 0
      },
      "text/plain": [
       "HBox(children=(HTML(value=''), FloatProgress(value=0.0, max=1334.0), HTML(value='')))"
      ]
     },
     "metadata": {},
     "output_type": "display_data"
    },
    {
     "name": "stdout",
     "output_type": "stream",
     "text": [
      "\n"
     ]
    }
   ],
   "source": [
    "test_acc, test_loss = evaluate(model, loader_tokenized_test_data, len(X_test))"
   ]
  },
  {
   "cell_type": "code",
   "execution_count": 32,
   "metadata": {},
   "outputs": [
    {
     "data": {
      "text/plain": [
       "(tensor(0.2887, device='cuda:0'), 1.584947824031338)"
      ]
     },
     "execution_count": 32,
     "metadata": {},
     "output_type": "execute_result"
    }
   ],
   "source": [
    "test_acc, test_loss"
   ]
  },
  {
   "cell_type": "code",
   "execution_count": 33,
   "metadata": {
    "id": "OvGjYl0sN9c4"
   },
   "outputs": [
    {
     "data": {
      "text/plain": [
       "(tensor(0.2887, device='cuda:0'), 0.2886994002998501)"
      ]
     },
     "execution_count": 33,
     "metadata": {},
     "output_type": "execute_result"
    }
   ],
   "source": [
    "test_acc, len(np.where(y_test == 5)[0])/len(y_test)"
   ]
  },
  {
   "cell_type": "code",
   "execution_count": null,
   "metadata": {
    "id": "20JrrdpIN9c4"
   },
   "outputs": [],
   "source": []
  },
  {
   "cell_type": "code",
   "execution_count": null,
   "metadata": {
    "id": "ZHDnY3ApN9c5"
   },
   "outputs": [],
   "source": []
  }
 ],
 "metadata": {
  "accelerator": "GPU",
  "colab": {
   "collapsed_sections": [],
   "name": "nlp_bert_cased.ipynb",
   "provenance": []
  },
  "kernelspec": {
   "display_name": "Python 3",
   "language": "python",
   "name": "python3"
  },
  "language_info": {
   "codemirror_mode": {
    "name": "ipython",
    "version": 3
   },
   "file_extension": ".py",
   "mimetype": "text/x-python",
   "name": "python",
   "nbconvert_exporter": "python",
   "pygments_lexer": "ipython3",
   "version": "3.8.5"
  },
  "widgets": {
   "application/vnd.jupyter.widget-state+json": {
    "03e9f50abbf149e29dadbc8028a98c56": {
     "model_module": "@jupyter-widgets/base",
     "model_name": "LayoutModel",
     "state": {
      "_model_module": "@jupyter-widgets/base",
      "_model_module_version": "1.2.0",
      "_model_name": "LayoutModel",
      "_view_count": null,
      "_view_module": "@jupyter-widgets/base",
      "_view_module_version": "1.2.0",
      "_view_name": "LayoutView",
      "align_content": null,
      "align_items": null,
      "align_self": null,
      "border": null,
      "bottom": null,
      "display": null,
      "flex": null,
      "flex_flow": null,
      "grid_area": null,
      "grid_auto_columns": null,
      "grid_auto_flow": null,
      "grid_auto_rows": null,
      "grid_column": null,
      "grid_gap": null,
      "grid_row": null,
      "grid_template_areas": null,
      "grid_template_columns": null,
      "grid_template_rows": null,
      "height": null,
      "justify_content": null,
      "justify_items": null,
      "left": null,
      "margin": null,
      "max_height": null,
      "max_width": null,
      "min_height": null,
      "min_width": null,
      "object_fit": null,
      "object_position": null,
      "order": null,
      "overflow": null,
      "overflow_x": null,
      "overflow_y": null,
      "padding": null,
      "right": null,
      "top": null,
      "visibility": null,
      "width": null
     }
    },
    "04e714e4de2644efb78f448d0032fc69": {
     "model_module": "@jupyter-widgets/base",
     "model_name": "LayoutModel",
     "state": {
      "_model_module": "@jupyter-widgets/base",
      "_model_module_version": "1.2.0",
      "_model_name": "LayoutModel",
      "_view_count": null,
      "_view_module": "@jupyter-widgets/base",
      "_view_module_version": "1.2.0",
      "_view_name": "LayoutView",
      "align_content": null,
      "align_items": null,
      "align_self": null,
      "border": null,
      "bottom": null,
      "display": null,
      "flex": null,
      "flex_flow": null,
      "grid_area": null,
      "grid_auto_columns": null,
      "grid_auto_flow": null,
      "grid_auto_rows": null,
      "grid_column": null,
      "grid_gap": null,
      "grid_row": null,
      "grid_template_areas": null,
      "grid_template_columns": null,
      "grid_template_rows": null,
      "height": null,
      "justify_content": null,
      "justify_items": null,
      "left": null,
      "margin": null,
      "max_height": null,
      "max_width": null,
      "min_height": null,
      "min_width": null,
      "object_fit": null,
      "object_position": null,
      "order": null,
      "overflow": null,
      "overflow_x": null,
      "overflow_y": null,
      "padding": null,
      "right": null,
      "top": null,
      "visibility": null,
      "width": null
     }
    },
    "1cfcb1698f6645b0a68cc3241df92241": {
     "model_module": "@jupyter-widgets/controls",
     "model_name": "DescriptionStyleModel",
     "state": {
      "_model_module": "@jupyter-widgets/controls",
      "_model_module_version": "1.5.0",
      "_model_name": "DescriptionStyleModel",
      "_view_count": null,
      "_view_module": "@jupyter-widgets/base",
      "_view_module_version": "1.2.0",
      "_view_name": "StyleView",
      "description_width": ""
     }
    },
    "288067d1923e4d4982d548fc5a4cb0b3": {
     "model_module": "@jupyter-widgets/controls",
     "model_name": "HBoxModel",
     "state": {
      "_dom_classes": [],
      "_model_module": "@jupyter-widgets/controls",
      "_model_module_version": "1.5.0",
      "_model_name": "HBoxModel",
      "_view_count": null,
      "_view_module": "@jupyter-widgets/controls",
      "_view_module_version": "1.5.0",
      "_view_name": "HBoxView",
      "box_style": "",
      "children": [
       "IPY_MODEL_b8dcbf75a9814e0ea39d80cb16163c3f",
       "IPY_MODEL_e0827100e40f47dca7db1af367cd6b29"
      ],
      "layout": "IPY_MODEL_04e714e4de2644efb78f448d0032fc69"
     }
    },
    "388d1aaa572f49528523ff2fe0354229": {
     "model_module": "@jupyter-widgets/controls",
     "model_name": "HTMLModel",
     "state": {
      "_dom_classes": [],
      "_model_module": "@jupyter-widgets/controls",
      "_model_module_version": "1.5.0",
      "_model_name": "HTMLModel",
      "_view_count": null,
      "_view_module": "@jupyter-widgets/controls",
      "_view_module_version": "1.5.0",
      "_view_name": "HTMLView",
      "description": "",
      "description_tooltip": null,
      "layout": "IPY_MODEL_03e9f50abbf149e29dadbc8028a98c56",
      "placeholder": "​",
      "style": "IPY_MODEL_f39a60ad3cd44847bd0b7be29e596357",
      "value": " 26/14542 [00:44&lt;7:07:14,  1.77s/it]"
     }
    },
    "4d22c543c3934e8e9d10d461013ba54a": {
     "model_module": "@jupyter-widgets/controls",
     "model_name": "ProgressStyleModel",
     "state": {
      "_model_module": "@jupyter-widgets/controls",
      "_model_module_version": "1.5.0",
      "_model_name": "ProgressStyleModel",
      "_view_count": null,
      "_view_module": "@jupyter-widgets/base",
      "_view_module_version": "1.2.0",
      "_view_name": "StyleView",
      "bar_color": null,
      "description_width": "initial"
     }
    },
    "5033590e49bd48a48669bc9f2edbd10a": {
     "model_module": "@jupyter-widgets/controls",
     "model_name": "FloatProgressModel",
     "state": {
      "_dom_classes": [],
      "_model_module": "@jupyter-widgets/controls",
      "_model_module_version": "1.5.0",
      "_model_name": "FloatProgressModel",
      "_view_count": null,
      "_view_module": "@jupyter-widgets/controls",
      "_view_module_version": "1.5.0",
      "_view_name": "ProgressView",
      "bar_style": "",
      "description": "  0%",
      "description_tooltip": null,
      "layout": "IPY_MODEL_ffe5f9128a974f61a362cab7311b5dd9",
      "max": 14542,
      "min": 0,
      "orientation": "horizontal",
      "style": "IPY_MODEL_6c3c9f9c61bb4bdc8e4e4603f5f2ecb9",
      "value": 26
     }
    },
    "57ca68af46b9468685660899a2d0328f": {
     "model_module": "@jupyter-widgets/controls",
     "model_name": "HBoxModel",
     "state": {
      "_dom_classes": [],
      "_model_module": "@jupyter-widgets/controls",
      "_model_module_version": "1.5.0",
      "_model_name": "HBoxModel",
      "_view_count": null,
      "_view_module": "@jupyter-widgets/controls",
      "_view_module_version": "1.5.0",
      "_view_name": "HBoxView",
      "box_style": "",
      "children": [
       "IPY_MODEL_5033590e49bd48a48669bc9f2edbd10a",
       "IPY_MODEL_388d1aaa572f49528523ff2fe0354229"
      ],
      "layout": "IPY_MODEL_fa57fb34b3fa460db7931907ee7e7152"
     }
    },
    "6c3c9f9c61bb4bdc8e4e4603f5f2ecb9": {
     "model_module": "@jupyter-widgets/controls",
     "model_name": "ProgressStyleModel",
     "state": {
      "_model_module": "@jupyter-widgets/controls",
      "_model_module_version": "1.5.0",
      "_model_name": "ProgressStyleModel",
      "_view_count": null,
      "_view_module": "@jupyter-widgets/base",
      "_view_module_version": "1.2.0",
      "_view_name": "StyleView",
      "bar_color": null,
      "description_width": "initial"
     }
    },
    "840723a473074f81807af5e18818a307": {
     "model_module": "@jupyter-widgets/base",
     "model_name": "LayoutModel",
     "state": {
      "_model_module": "@jupyter-widgets/base",
      "_model_module_version": "1.2.0",
      "_model_name": "LayoutModel",
      "_view_count": null,
      "_view_module": "@jupyter-widgets/base",
      "_view_module_version": "1.2.0",
      "_view_name": "LayoutView",
      "align_content": null,
      "align_items": null,
      "align_self": null,
      "border": null,
      "bottom": null,
      "display": null,
      "flex": null,
      "flex_flow": null,
      "grid_area": null,
      "grid_auto_columns": null,
      "grid_auto_flow": null,
      "grid_auto_rows": null,
      "grid_column": null,
      "grid_gap": null,
      "grid_row": null,
      "grid_template_areas": null,
      "grid_template_columns": null,
      "grid_template_rows": null,
      "height": null,
      "justify_content": null,
      "justify_items": null,
      "left": null,
      "margin": null,
      "max_height": null,
      "max_width": null,
      "min_height": null,
      "min_width": null,
      "object_fit": null,
      "object_position": null,
      "order": null,
      "overflow": null,
      "overflow_x": null,
      "overflow_y": null,
      "padding": null,
      "right": null,
      "top": null,
      "visibility": null,
      "width": null
     }
    },
    "b8dcbf75a9814e0ea39d80cb16163c3f": {
     "model_module": "@jupyter-widgets/controls",
     "model_name": "FloatProgressModel",
     "state": {
      "_dom_classes": [],
      "_model_module": "@jupyter-widgets/controls",
      "_model_module_version": "1.5.0",
      "_model_name": "FloatProgressModel",
      "_view_count": null,
      "_view_module": "@jupyter-widgets/controls",
      "_view_module_version": "1.5.0",
      "_view_name": "ProgressView",
      "bar_style": "",
      "description": "  0%",
      "description_tooltip": null,
      "layout": "IPY_MODEL_840723a473074f81807af5e18818a307",
      "max": 4,
      "min": 0,
      "orientation": "horizontal",
      "style": "IPY_MODEL_4d22c543c3934e8e9d10d461013ba54a",
      "value": 0
     }
    },
    "bd846a8053b349e8a202953b9e8151c8": {
     "model_module": "@jupyter-widgets/base",
     "model_name": "LayoutModel",
     "state": {
      "_model_module": "@jupyter-widgets/base",
      "_model_module_version": "1.2.0",
      "_model_name": "LayoutModel",
      "_view_count": null,
      "_view_module": "@jupyter-widgets/base",
      "_view_module_version": "1.2.0",
      "_view_name": "LayoutView",
      "align_content": null,
      "align_items": null,
      "align_self": null,
      "border": null,
      "bottom": null,
      "display": null,
      "flex": null,
      "flex_flow": null,
      "grid_area": null,
      "grid_auto_columns": null,
      "grid_auto_flow": null,
      "grid_auto_rows": null,
      "grid_column": null,
      "grid_gap": null,
      "grid_row": null,
      "grid_template_areas": null,
      "grid_template_columns": null,
      "grid_template_rows": null,
      "height": null,
      "justify_content": null,
      "justify_items": null,
      "left": null,
      "margin": null,
      "max_height": null,
      "max_width": null,
      "min_height": null,
      "min_width": null,
      "object_fit": null,
      "object_position": null,
      "order": null,
      "overflow": null,
      "overflow_x": null,
      "overflow_y": null,
      "padding": null,
      "right": null,
      "top": null,
      "visibility": null,
      "width": null
     }
    },
    "e0827100e40f47dca7db1af367cd6b29": {
     "model_module": "@jupyter-widgets/controls",
     "model_name": "HTMLModel",
     "state": {
      "_dom_classes": [],
      "_model_module": "@jupyter-widgets/controls",
      "_model_module_version": "1.5.0",
      "_model_name": "HTMLModel",
      "_view_count": null,
      "_view_module": "@jupyter-widgets/controls",
      "_view_module_version": "1.5.0",
      "_view_name": "HTMLView",
      "description": "",
      "description_tooltip": null,
      "layout": "IPY_MODEL_bd846a8053b349e8a202953b9e8151c8",
      "placeholder": "​",
      "style": "IPY_MODEL_1cfcb1698f6645b0a68cc3241df92241",
      "value": " 0/4 [00:00&lt;?, ?it/s]"
     }
    },
    "f39a60ad3cd44847bd0b7be29e596357": {
     "model_module": "@jupyter-widgets/controls",
     "model_name": "DescriptionStyleModel",
     "state": {
      "_model_module": "@jupyter-widgets/controls",
      "_model_module_version": "1.5.0",
      "_model_name": "DescriptionStyleModel",
      "_view_count": null,
      "_view_module": "@jupyter-widgets/base",
      "_view_module_version": "1.2.0",
      "_view_name": "StyleView",
      "description_width": ""
     }
    },
    "fa57fb34b3fa460db7931907ee7e7152": {
     "model_module": "@jupyter-widgets/base",
     "model_name": "LayoutModel",
     "state": {
      "_model_module": "@jupyter-widgets/base",
      "_model_module_version": "1.2.0",
      "_model_name": "LayoutModel",
      "_view_count": null,
      "_view_module": "@jupyter-widgets/base",
      "_view_module_version": "1.2.0",
      "_view_name": "LayoutView",
      "align_content": null,
      "align_items": null,
      "align_self": null,
      "border": null,
      "bottom": null,
      "display": null,
      "flex": null,
      "flex_flow": null,
      "grid_area": null,
      "grid_auto_columns": null,
      "grid_auto_flow": null,
      "grid_auto_rows": null,
      "grid_column": null,
      "grid_gap": null,
      "grid_row": null,
      "grid_template_areas": null,
      "grid_template_columns": null,
      "grid_template_rows": null,
      "height": null,
      "justify_content": null,
      "justify_items": null,
      "left": null,
      "margin": null,
      "max_height": null,
      "max_width": null,
      "min_height": null,
      "min_width": null,
      "object_fit": null,
      "object_position": null,
      "order": null,
      "overflow": null,
      "overflow_x": null,
      "overflow_y": null,
      "padding": null,
      "right": null,
      "top": null,
      "visibility": null,
      "width": null
     }
    },
    "ffe5f9128a974f61a362cab7311b5dd9": {
     "model_module": "@jupyter-widgets/base",
     "model_name": "LayoutModel",
     "state": {
      "_model_module": "@jupyter-widgets/base",
      "_model_module_version": "1.2.0",
      "_model_name": "LayoutModel",
      "_view_count": null,
      "_view_module": "@jupyter-widgets/base",
      "_view_module_version": "1.2.0",
      "_view_name": "LayoutView",
      "align_content": null,
      "align_items": null,
      "align_self": null,
      "border": null,
      "bottom": null,
      "display": null,
      "flex": null,
      "flex_flow": null,
      "grid_area": null,
      "grid_auto_columns": null,
      "grid_auto_flow": null,
      "grid_auto_rows": null,
      "grid_column": null,
      "grid_gap": null,
      "grid_row": null,
      "grid_template_areas": null,
      "grid_template_columns": null,
      "grid_template_rows": null,
      "height": null,
      "justify_content": null,
      "justify_items": null,
      "left": null,
      "margin": null,
      "max_height": null,
      "max_width": null,
      "min_height": null,
      "min_width": null,
      "object_fit": null,
      "object_position": null,
      "order": null,
      "overflow": null,
      "overflow_x": null,
      "overflow_y": null,
      "padding": null,
      "right": null,
      "top": null,
      "visibility": null,
      "width": null
     }
    }
   }
  }
 },
 "nbformat": 4,
 "nbformat_minor": 5
}
